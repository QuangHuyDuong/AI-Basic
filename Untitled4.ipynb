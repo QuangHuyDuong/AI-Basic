{
 "cells": [
  {
   "cell_type": "code",
   "execution_count": 1,
   "id": "5254fef7-6b6d-4a17-bf83-cfd9221922be",
   "metadata": {
    "tags": []
   },
   "outputs": [],
   "source": [
    "from flask import Flask, request\n",
    "from PIL import Image\n",
    "import numpy as np\n",
    "import cv2"
   ]
  },
  {
   "cell_type": "code",
   "execution_count": 2,
   "id": "a9071318-a552-47cb-ba97-73076d4b69df",
   "metadata": {
    "tags": []
   },
   "outputs": [],
   "source": [
    "from tensorflow.keras.models import load_model\n",
    "model = load_model('best_model.h5')"
   ]
  },
  {
   "cell_type": "code",
   "execution_count": 3,
   "id": "a1ad0083-0cfd-4138-8881-9453c34cc926",
   "metadata": {
    "tags": []
   },
   "outputs": [],
   "source": [
    "labels = ['glioma','notumor','meningioma','pituitary']"
   ]
  },
  {
   "cell_type": "code",
   "execution_count": 4,
   "id": "94ecc7b0-be5e-4f5c-9189-18da914e5c9a",
   "metadata": {
    "tags": []
   },
   "outputs": [],
   "source": [
    "app = Flask(__name__)"
   ]
  },
  {
   "cell_type": "code",
   "execution_count": 5,
   "id": "224d6099-7a7c-4089-aa2f-e002b8de1f7e",
   "metadata": {
    "tags": []
   },
   "outputs": [],
   "source": [
    "from PIL import Image"
   ]
  },
  {
   "cell_type": "code",
   "execution_count": 6,
   "id": "cbe1f48c-db2d-43f3-81da-31f7c14b5e1a",
   "metadata": {
    "tags": []
   },
   "outputs": [],
   "source": [
    "@app.route('/model',methods = ['POST'])\n",
    "def predict():\n",
    "    img = Image.open(request.files['file'])\n",
    "    img = np.array(img)\n",
    "    img = cv2.resize(img,(150,150))\n",
    "    img = cv2.cvtColor(np.array(img), cv2.COLOR_BGR2RGB)\n",
    "    img = img.reshape(1 , 150, 150 ,3)\n",
    "    fact_resp= model.predict(img)\n",
    "    index = np.argmax(fact_resp)\n",
    "    return(labels[index])"
   ]
  },
  {
   "cell_type": "code",
   "execution_count": null,
   "id": "49204d68-0ef5-4770-a66a-cfb9e00caea6",
   "metadata": {
    "tags": []
   },
   "outputs": [
    {
     "name": "stdout",
     "output_type": "stream",
     "text": [
      " * Serving Flask app '__main__'\n",
      " * Debug mode: off\n"
     ]
    },
    {
     "name": "stderr",
     "output_type": "stream",
     "text": [
      "WARNING: This is a development server. Do not use it in a production deployment. Use a production WSGI server instead.\n",
      " * Running on http://127.0.0.1:5000\n",
      "Press CTRL+C to quit\n"
     ]
    },
    {
     "name": "stdout",
     "output_type": "stream",
     "text": [
      "1/1 [==============================] - 0s 233ms/step\n"
     ]
    },
    {
     "name": "stderr",
     "output_type": "stream",
     "text": [
      "127.0.0.1 - - [14/Nov/2023 19:17:31] \"POST /model?image HTTP/1.1\" 200 -\n"
     ]
    }
   ],
   "source": [
    "app.run()"
   ]
  },
  {
   "cell_type": "code",
   "execution_count": null,
   "id": "e9696b19-f54e-42de-995d-021972532128",
   "metadata": {},
   "outputs": [],
   "source": []
  }
 ],
 "metadata": {
  "kernelspec": {
   "display_name": "Python 3 (ipykernel)",
   "language": "python",
   "name": "python3"
  },
  "language_info": {
   "codemirror_mode": {
    "name": "ipython",
    "version": 3
   },
   "file_extension": ".py",
   "mimetype": "text/x-python",
   "name": "python",
   "nbconvert_exporter": "python",
   "pygments_lexer": "ipython3",
   "version": "3.10.13"
  }
 },
 "nbformat": 4,
 "nbformat_minor": 5
}
