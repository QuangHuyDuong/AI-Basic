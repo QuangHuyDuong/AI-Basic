{
 "cells": [
  {
   "cell_type": "code",
   "execution_count": 203,
   "metadata": {
    "id": "KhdMoBSoqcjr",
    "tags": []
   },
   "outputs": [],
   "source": [
    "import tensorflow as tf\n",
    "from keras.preprocessing.image import ImageDataGenerator\n",
    "from tqdm import tqdm\n",
    "import os\n",
    "from sklearn.model_selection import train_test_split\n",
    "import cv2\n",
    "import numpy as np\n",
    "from sklearn.utils import shuffle"
   ]
  },
  {
   "cell_type": "code",
   "execution_count": 218,
   "metadata": {
    "id": "a6G86GNZr6Fm",
    "tags": []
   },
   "outputs": [],
   "source": [
    "labels = ['glioma','notumor','meningioma','pituitary']"
   ]
  },
  {
   "cell_type": "code",
   "execution_count": 205,
   "metadata": {
    "id": "tOHZ5aO8r-uC",
    "tags": []
   },
   "outputs": [],
   "source": [
    "X_train = []\n",
    "y_train = []"
   ]
  },
  {
   "cell_type": "code",
   "execution_count": 206,
   "metadata": {
    "colab": {
     "base_uri": "https://localhost:8080/"
    },
    "id": "_79exx5GqjbY",
    "outputId": "05ff291c-b935-4b76-bf4c-56202d62fe58",
    "tags": []
   },
   "outputs": [
    {
     "name": "stderr",
     "output_type": "stream",
     "text": [
      "100%|██████████| 1321/1321 [00:05<00:00, 233.48it/s]\n",
      "100%|██████████| 1595/1595 [00:05<00:00, 285.82it/s]\n",
      "100%|██████████| 1339/1339 [00:07<00:00, 183.67it/s]\n",
      "100%|██████████| 1457/1457 [00:07<00:00, 196.19it/s]\n",
      "100%|██████████| 300/300 [00:01<00:00, 193.33it/s]\n",
      "100%|██████████| 405/405 [00:01<00:00, 340.21it/s]\n",
      "100%|██████████| 306/306 [00:01<00:00, 240.31it/s]\n",
      "100%|██████████| 300/300 [00:01<00:00, 208.12it/s]\n"
     ]
    }
   ],
   "source": [
    "image_size = 150\n",
    "for i in labels:\n",
    "    folderPath = os.path.join('archive/','Training',i)\n",
    "    for j in tqdm(os.listdir(folderPath)):\n",
    "        img = cv2.imread(os.path.join(folderPath,j))\n",
    "        img = img.astype('float')\n",
    "        img = cv2.resize(img,(image_size, image_size))\n",
    "        X_train.append(img)\n",
    "        y_train.append(labels.index(i))\n",
    "for i in labels:\n",
    "    folderPath = os.path.join('archive/','Testing',i)\n",
    "    id = 0\n",
    "    for j in tqdm(os.listdir(folderPath)):\n",
    "        img = cv2.imread(os.path.join(folderPath,j))\n",
    "        img = img.astype('float')\n",
    "        img = cv2.resize(img,(image_size, image_size))\n",
    "        X_train.append(img)\n",
    "        y_train.append(labels.index(i))\n"
   ]
  },
  {
   "cell_type": "code",
   "execution_count": 207,
   "metadata": {
    "id": "Ogo2KE_7s5MT",
    "tags": []
   },
   "outputs": [],
   "source": [
    "X_train = np.array(X_train)\n",
    "y_train = np.array(y_train)"
   ]
  },
  {
   "cell_type": "code",
   "execution_count": 86,
   "metadata": {
    "colab": {
     "base_uri": "https://localhost:8080/"
    },
    "id": "qi3fThC7N2g8",
    "outputId": "efb5b3ee-b76b-4271-9c4f-3597b4e6cdc8",
    "tags": []
   },
   "outputs": [
    {
     "name": "stdout",
     "output_type": "stream",
     "text": [
      "[0 0 0 ... 3 3 3]\n"
     ]
    }
   ],
   "source": [
    "print(y_train)"
   ]
  },
  {
   "cell_type": "code",
   "execution_count": 87,
   "metadata": {
    "id": "oZHdmsaFtIIL",
    "tags": []
   },
   "outputs": [],
   "source": [
    "X_train, y_train = shuffle(X_train,y_train, random_state=101)"
   ]
  },
  {
   "cell_type": "code",
   "execution_count": 88,
   "metadata": {
    "id": "184X7cPktNaD",
    "tags": []
   },
   "outputs": [],
   "source": [
    "X_train,X_test,y_train,y_test = train_test_split(X_train,y_train, test_size=0.1,random_state=101)"
   ]
  },
  {
   "cell_type": "code",
   "execution_count": 89,
   "metadata": {
    "id": "zSl3nQpTtR05",
    "tags": []
   },
   "outputs": [],
   "source": [
    "\n",
    "y_train = tf.keras.utils.to_categorical(y_train)\n"
   ]
  },
  {
   "cell_type": "code",
   "execution_count": 90,
   "metadata": {
    "tags": []
   },
   "outputs": [
    {
     "name": "stdout",
     "output_type": "stream",
     "text": [
      "[[0. 1. 0. 0.]\n",
      " [0. 0. 1. 0.]\n",
      " [0. 0. 0. 1.]\n",
      " ...\n",
      " [0. 0. 0. 1.]\n",
      " [1. 0. 0. 0.]\n",
      " [1. 0. 0. 0.]]\n"
     ]
    }
   ],
   "source": [
    "print(y_train)"
   ]
  },
  {
   "cell_type": "code",
   "execution_count": 91,
   "metadata": {
    "id": "YP6oDHQLrBO5",
    "tags": []
   },
   "outputs": [],
   "source": [
    "cnn = tf.keras.models.Sequential()"
   ]
  },
  {
   "cell_type": "code",
   "execution_count": 92,
   "metadata": {
    "id": "2NVSirfHrFkT",
    "tags": []
   },
   "outputs": [],
   "source": [
    "cnn.add(tf.keras.layers.Conv2D(filters=6, kernel_size=5, activation=tf.keras.layers.LeakyReLU(alpha=0.01)))\n",
    "cnn.add(tf.keras.layers.Dropout(rate= 0.1))"
   ]
  },
  {
   "cell_type": "code",
   "execution_count": 93,
   "metadata": {
    "id": "F3PoMDVZrnDo",
    "tags": []
   },
   "outputs": [],
   "source": [
    "cnn.add(tf.keras.layers.MaxPool2D(pool_size=2, strides=2))"
   ]
  },
  {
   "cell_type": "code",
   "execution_count": 94,
   "metadata": {
    "id": "3r5CKEIwrqxn",
    "tags": []
   },
   "outputs": [],
   "source": [
    "\n",
    "cnn.add(tf.keras.layers.Conv2D(filters=16, kernel_size=5, activation=tf.keras.layers.LeakyReLU(alpha=0.01)))\n",
    "cnn.add(tf.keras.layers.Dropout(rate= 0.1))\n",
    "cnn.add(tf.keras.layers.MaxPool2D(pool_size=2, strides=2))\n",
    "cnn.add(tf.keras.layers.Flatten())\n",
    "cnn.add(tf.keras.layers.Dense(units=448, activation=tf.keras.layers.LeakyReLU(alpha=0.01)))\n",
    "cnn.add(tf.keras.layers.Dense(units=4, activation = 'softmax'))"
   ]
  },
  {
   "cell_type": "code",
   "execution_count": 95,
   "metadata": {
    "id": "PgylYmCor8eL",
    "tags": []
   },
   "outputs": [],
   "source": [
    "cnn.compile(loss='categorical_crossentropy',optimizer = 'Adam', metrics= ['accuracy'])\n",
    "\n"
   ]
  },
  {
   "cell_type": "code",
   "execution_count": 96,
   "metadata": {
    "tags": []
   },
   "outputs": [],
   "source": [
    "\n",
    "from tensorflow.keras.callbacks import ModelCheckpoint\n",
    "\n",
    "# Tạo một ModelCheckpoint callback\n",
    "model_checkpoint = ModelCheckpoint(\n",
    "    filepath='best_model.h5',  # Tên tệp lưu trọng số mô hình\n",
    "    monitor='val_accuracy',  # Theo dõi hiệu suất trên tập kiểm tra\n",
    "    save_best_only=True,  # Lưu trọng số chỉ nếu hiệu suất tốt hơn\n",
    "    mode='max',  # 'max' nếu bạn muốn lưu trọng số khi giá trị đạt đỉnh (ví dụ: accuracy)\n",
    ")\n"
   ]
  },
  {
   "cell_type": "code",
   "execution_count": 97,
   "metadata": {
    "id": "zP71ZhjGsFCG",
    "tags": []
   },
   "outputs": [
    {
     "name": "stdout",
     "output_type": "stream",
     "text": [
      "Epoch 1/6\n",
      "474/474 [==============================] - 44s 91ms/step - loss: 19.9992 - accuracy: 0.7315 - val_loss: 0.3848 - val_accuracy: 0.8766\n",
      "Epoch 2/6\n",
      "474/474 [==============================] - 38s 80ms/step - loss: 0.2053 - accuracy: 0.9342 - val_loss: 0.3002 - val_accuracy: 0.9130\n",
      "Epoch 3/6\n",
      "474/474 [==============================] - 38s 81ms/step - loss: 0.0953 - accuracy: 0.9689 - val_loss: 0.2572 - val_accuracy: 0.9256\n",
      "Epoch 4/6\n",
      "474/474 [==============================] - 39s 82ms/step - loss: 0.0893 - accuracy: 0.9713 - val_loss: 0.3185 - val_accuracy: 0.8987\n",
      "Epoch 5/6\n",
      "474/474 [==============================] - 39s 81ms/step - loss: 0.0948 - accuracy: 0.9724 - val_loss: 0.3299 - val_accuracy: 0.8924\n",
      "Epoch 6/6\n",
      "474/474 [==============================] - 39s 83ms/step - loss: 0.0625 - accuracy: 0.9819 - val_loss: 0.2676 - val_accuracy: 0.9209\n"
     ]
    }
   ],
   "source": [
    "history = cnn.fit(X_train,y_train,validation_split=0.1, epochs =6, verbose=1, batch_size=12,callbacks=[model_checkpoint])"
   ]
  },
  {
   "cell_type": "code",
   "execution_count": 76,
   "metadata": {
    "colab": {
     "base_uri": "https://localhost:8080/",
     "height": 390
    },
    "id": "zIubmwiLFY72",
    "outputId": "af5d7540-d9a9-4d1e-b9ca-e384c4b75a25",
    "tags": []
   },
   "outputs": [
    {
     "name": "stdout",
     "output_type": "stream",
     "text": [
      "22/22 [==============================] - 0s 16ms/step\n"
     ]
    }
   ],
   "source": [
    "pred = cnn.predict(X_test)\n",
    "pred = np.argmax(pred,axis=1)\n",
    "\n"
   ]
  },
  {
   "cell_type": "code",
   "execution_count": 79,
   "metadata": {
    "colab": {
     "base_uri": "https://localhost:8080/"
    },
    "id": "bmxEvRlcDuj9",
    "outputId": "b76aef3d-fbb2-46c5-bea2-412eed6f8cee",
    "tags": []
   },
   "outputs": [
    {
     "name": "stdout",
     "output_type": "stream",
     "text": [
      "              precision    recall  f1-score   support\n",
      "\n",
      "           0       0.89      0.88      0.88       170\n",
      "           1       0.96      0.97      0.97       203\n",
      "           2       0.85      0.84      0.85       174\n",
      "           3       0.93      0.96      0.94       156\n",
      "\n",
      "    accuracy                           0.91       703\n",
      "   macro avg       0.91      0.91      0.91       703\n",
      "weighted avg       0.91      0.91      0.91       703\n",
      "\n"
     ]
    }
   ],
   "source": [
    "from sklearn.metrics import classification_report,confusion_matrix\n",
    "print(classification_report(y_test,pred))"
   ]
  },
  {
   "cell_type": "code",
   "execution_count": 215,
   "metadata": {
    "tags": []
   },
   "outputs": [
    {
     "name": "stdout",
     "output_type": "stream",
     "text": [
      "<keras.engine.sequential.Sequential object at 0x0000026C14B39ED0>\n"
     ]
    }
   ],
   "source": [
    "print(model)"
   ]
  },
  {
   "cell_type": "code",
   "execution_count": 230,
   "metadata": {
    "tags": []
   },
   "outputs": [],
   "source": [
    "app = Flask(__name__)"
   ]
  },
  {
   "cell_type": "code",
   "execution_count": 231,
   "metadata": {
    "tags": []
   },
   "outputs": [],
   "source": [
    "from PIL import Image"
   ]
  },
  {
   "cell_type": "code",
   "execution_count": 232,
   "metadata": {
    "tags": []
   },
   "outputs": [],
   "source": [
    "@app.route('/model',methods = ['POST'])\n",
    "def predict():\n",
    "    img = Image.open(request.files['file'])\n",
    "    img = np.array(img)\n",
    "    img = cv2.resize(img,(150,150))\n",
    "    img = cv2.cvtColor(np.array(img), cv2.COLOR_BGR2RGB)\n",
    "    img = img.reshape(1 , 150, 150 ,3)\n",
    "    fact_resp= model.predict(img)\n",
    "    index = np.argmax(fact_resp)\n",
    "    return(labels[index])"
   ]
  },
  {
   "cell_type": "code",
   "execution_count": 233,
   "metadata": {
    "tags": []
   },
   "outputs": [
    {
     "name": "stdout",
     "output_type": "stream",
     "text": [
      " * Serving Flask app '__main__'\n",
      " * Debug mode: off\n"
     ]
    },
    {
     "name": "stderr",
     "output_type": "stream",
     "text": [
      "WARNING: This is a development server. Do not use it in a production deployment. Use a production WSGI server instead.\n",
      " * Running on http://127.0.0.1:5000\n",
      "Press CTRL+C to quit\n"
     ]
    },
    {
     "name": "stdout",
     "output_type": "stream",
     "text": [
      "1/1 [==============================] - 0s 32ms/step\n"
     ]
    },
    {
     "name": "stderr",
     "output_type": "stream",
     "text": [
      "127.0.0.1 - - [12/Nov/2023 15:41:15] \"POST /model?image HTTP/1.1\" 200 -\n"
     ]
    }
   ],
   "source": [
    "app.run()"
   ]
  },
  {
   "cell_type": "code",
   "execution_count": null,
   "metadata": {},
   "outputs": [],
   "source": []
  }
 ],
 "metadata": {
  "colab": {
   "provenance": []
  },
  "kernelspec": {
   "display_name": "Python 3 (ipykernel)",
   "language": "python",
   "name": "python3"
  },
  "language_info": {
   "codemirror_mode": {
    "name": "ipython",
    "version": 3
   },
   "file_extension": ".py",
   "mimetype": "text/x-python",
   "name": "python",
   "nbconvert_exporter": "python",
   "pygments_lexer": "ipython3",
   "version": "3.10.13"
  }
 },
 "nbformat": 4,
 "nbformat_minor": 4
}
