{
 "cells": [
  {
   "cell_type": "code",
   "execution_count": 1,
   "metadata": {
    "id": "KhdMoBSoqcjr",
    "tags": []
   },
   "outputs": [],
   "source": [
    "import tensorflow as tf\n",
    "from keras.preprocessing.image import ImageDataGenerator\n",
    "from tqdm import tqdm\n",
    "import os\n",
    "from sklearn.model_selection import train_test_split\n",
    "import cv2\n",
    "import numpy as np\n",
    "from sklearn.utils import shuffle"
   ]
  },
  {
   "cell_type": "code",
   "execution_count": 2,
   "metadata": {
    "id": "a6G86GNZr6Fm",
    "tags": []
   },
   "outputs": [],
   "source": [
    "labels = ['glioma','notumor','meningioma','pituitary']"
   ]
  },
  {
   "cell_type": "code",
   "execution_count": 3,
   "metadata": {
    "id": "tOHZ5aO8r-uC",
    "tags": []
   },
   "outputs": [],
   "source": [
    "X_train = []\n",
    "y_train = []"
   ]
  },
  {
   "cell_type": "code",
   "execution_count": 4,
   "metadata": {
    "colab": {
     "base_uri": "https://localhost:8080/"
    },
    "id": "_79exx5GqjbY",
    "outputId": "05ff291c-b935-4b76-bf4c-56202d62fe58",
    "tags": []
   },
   "outputs": [
    {
     "name": "stderr",
     "output_type": "stream",
     "text": [
      "100%|██████████| 1321/1321 [00:18<00:00, 72.32it/s]\n",
      "100%|██████████| 1595/1595 [00:19<00:00, 82.52it/s] \n",
      "100%|██████████| 1339/1339 [00:20<00:00, 66.78it/s]\n",
      "100%|██████████| 1457/1457 [00:23<00:00, 61.35it/s]\n",
      "100%|██████████| 300/300 [00:04<00:00, 66.26it/s]\n",
      "100%|██████████| 405/405 [00:04<00:00, 90.93it/s] \n",
      "100%|██████████| 306/306 [00:04<00:00, 71.18it/s]\n",
      "100%|██████████| 300/300 [00:04<00:00, 66.46it/s]\n"
     ]
    }
   ],
   "source": [
    "image_size = 150\n",
    "for i in labels:\n",
    "    folderPath = os.path.join('archive/','Training',i)\n",
    "    for j in tqdm(os.listdir(folderPath)):\n",
    "        img = cv2.imread(os.path.join(folderPath,j))\n",
    "        img = img.astype('float')\n",
    "        img = cv2.resize(img,(image_size, image_size))\n",
    "        X_train.append(img)\n",
    "        y_train.append(labels.index(i))\n",
    "for i in labels:\n",
    "    folderPath = os.path.join('archive/','Testing',i)\n",
    "    id = 0\n",
    "    for j in tqdm(os.listdir(folderPath)):\n",
    "        img = cv2.imread(os.path.join(folderPath,j))\n",
    "        img = img.astype('float')\n",
    "        img = cv2.resize(img,(image_size, image_size))\n",
    "        X_train.append(img)\n",
    "        y_train.append(labels.index(i))\n"
   ]
  },
  {
   "cell_type": "code",
   "execution_count": 5,
   "metadata": {
    "id": "Ogo2KE_7s5MT",
    "tags": []
   },
   "outputs": [],
   "source": [
    "X_train = np.array(X_train)\n",
    "y_train = np.array(y_train)"
   ]
  },
  {
   "cell_type": "code",
   "execution_count": 6,
   "metadata": {
    "id": "oZHdmsaFtIIL",
    "tags": []
   },
   "outputs": [],
   "source": [
    "X_train, y_train = shuffle(X_train,y_train, random_state=101)"
   ]
  },
  {
   "cell_type": "code",
   "execution_count": 7,
   "metadata": {
    "id": "184X7cPktNaD",
    "tags": []
   },
   "outputs": [],
   "source": [
    "X_train,X_test,y_train,y_test = train_test_split(X_train,y_train, test_size=0.1,random_state=101)"
   ]
  },
  {
   "cell_type": "code",
   "execution_count": 8,
   "metadata": {
    "id": "zSl3nQpTtR05",
    "tags": []
   },
   "outputs": [],
   "source": [
    "\n",
    "y_train = tf.keras.utils.to_categorical(y_train)\n"
   ]
  },
  {
   "cell_type": "code",
   "execution_count": 9,
   "metadata": {
    "tags": []
   },
   "outputs": [
    {
     "name": "stdout",
     "output_type": "stream",
     "text": [
      "[[0. 1. 0. 0.]\n",
      " [0. 0. 1. 0.]\n",
      " [0. 0. 0. 1.]\n",
      " ...\n",
      " [0. 0. 0. 1.]\n",
      " [1. 0. 0. 0.]\n",
      " [1. 0. 0. 0.]]\n"
     ]
    }
   ],
   "source": [
    "print(y_train)"
   ]
  },
  {
   "cell_type": "code",
   "execution_count": 17,
   "metadata": {
    "id": "YP6oDHQLrBO5",
    "tags": []
   },
   "outputs": [],
   "source": [
    "cnn = tf.keras.models.Sequential()"
   ]
  },
  {
   "cell_type": "code",
   "execution_count": 18,
   "metadata": {
    "id": "2NVSirfHrFkT",
    "tags": []
   },
   "outputs": [],
   "source": [
    "cnn.add(tf.keras.layers.Conv2D(filters=6, kernel_size=5, activation=tf.keras.layers.LeakyReLU(alpha=0.01)))\n",
    "cnn.add(tf.keras.layers.Dropout(rate= 0.3))"
   ]
  },
  {
   "cell_type": "code",
   "execution_count": 19,
   "metadata": {
    "id": "F3PoMDVZrnDo",
    "tags": []
   },
   "outputs": [],
   "source": [
    "cnn.add(tf.keras.layers.MaxPool2D(pool_size=2, strides=2))"
   ]
  },
  {
   "cell_type": "code",
   "execution_count": 20,
   "metadata": {
    "id": "3r5CKEIwrqxn",
    "tags": []
   },
   "outputs": [],
   "source": [
    "\n",
    "cnn.add(tf.keras.layers.Conv2D(filters=16, kernel_size=5, activation=tf.keras.layers.LeakyReLU(alpha=0.01)))\n",
    "cnn.add(tf.keras.layers.Dropout(rate= 0.3))\n",
    "cnn.add(tf.keras.layers.MaxPool2D(pool_size=2, strides=2))\n",
    "cnn.add(tf.keras.layers.Flatten())\n",
    "cnn.add(tf.keras.layers.Dense(units=448, activation=tf.keras.layers.LeakyReLU(alpha=0.01)))\n",
    "cnn.add(tf.keras.layers.Dropout(rate= 0.3))\n",
    "cnn.add(tf.keras.layers.Dense(units=4, activation = 'softmax'))"
   ]
  },
  {
   "cell_type": "code",
   "execution_count": 21,
   "metadata": {
    "id": "PgylYmCor8eL",
    "tags": []
   },
   "outputs": [],
   "source": [
    "cnn.compile(loss='categorical_crossentropy',optimizer = 'Adam', metrics= ['accuracy'])"
   ]
  },
  {
   "cell_type": "code",
   "execution_count": 22,
   "metadata": {
    "tags": []
   },
   "outputs": [],
   "source": [
    "from tensorflow.keras.callbacks import ModelCheckpoint\n",
    "model_checkpoint = ModelCheckpoint(\n",
    "    filepath='best_model.h5',  \n",
    "    monitor='val_accuracy', \n",
    "    save_best_only=True,  \n",
    "    mode='max'\n",
    ")"
   ]
  },
  {
   "cell_type": "code",
   "execution_count": 23,
   "metadata": {
    "id": "zP71ZhjGsFCG",
    "tags": []
   },
   "outputs": [
    {
     "name": "stdout",
     "output_type": "stream",
     "text": [
      "Epoch 1/6\n",
      "474/474 [==============================] - 44s 91ms/step - loss: 7.0555 - accuracy: 0.7161 - val_loss: 0.5121 - val_accuracy: 0.8418\n",
      "Epoch 2/6\n",
      "474/474 [==============================] - 41s 87ms/step - loss: 0.3559 - accuracy: 0.8657 - val_loss: 0.3389 - val_accuracy: 0.9035\n",
      "Epoch 3/6\n",
      "474/474 [==============================] - 39s 83ms/step - loss: 0.2500 - accuracy: 0.9110 - val_loss: 0.2557 - val_accuracy: 0.9177\n",
      "Epoch 4/6\n",
      "474/474 [==============================] - 41s 86ms/step - loss: 0.1547 - accuracy: 0.9485 - val_loss: 0.2751 - val_accuracy: 0.9130\n",
      "Epoch 5/6\n",
      "474/474 [==============================] - 39s 82ms/step - loss: 0.1783 - accuracy: 0.9420 - val_loss: 0.4748 - val_accuracy: 0.8497\n",
      "Epoch 6/6\n",
      "474/474 [==============================] - 40s 85ms/step - loss: 0.1169 - accuracy: 0.9575 - val_loss: 0.2109 - val_accuracy: 0.9272\n"
     ]
    }
   ],
   "source": [
    "history = cnn.fit(X_train,y_train,validation_split=0.1, epochs =6, verbose=1, batch_size=12,callbacks=[model_checkpoint])"
   ]
  },
  {
   "cell_type": "code",
   "execution_count": 24,
   "metadata": {
    "colab": {
     "base_uri": "https://localhost:8080/",
     "height": 390
    },
    "id": "zIubmwiLFY72",
    "outputId": "af5d7540-d9a9-4d1e-b9ca-e384c4b75a25",
    "tags": []
   },
   "outputs": [
    {
     "name": "stdout",
     "output_type": "stream",
     "text": [
      "22/22 [==============================] - 1s 19ms/step\n"
     ]
    }
   ],
   "source": [
    "pred = cnn.predict(X_test)\n",
    "pred = np.argmax(pred,axis=1)"
   ]
  },
  {
   "cell_type": "code",
   "execution_count": 25,
   "metadata": {
    "colab": {
     "base_uri": "https://localhost:8080/"
    },
    "id": "bmxEvRlcDuj9",
    "outputId": "b76aef3d-fbb2-46c5-bea2-412eed6f8cee",
    "tags": []
   },
   "outputs": [
    {
     "name": "stdout",
     "output_type": "stream",
     "text": [
      "              precision    recall  f1-score   support\n",
      "\n",
      "           0       0.95      0.78      0.85       170\n",
      "           1       0.97      0.96      0.96       203\n",
      "           2       0.76      0.94      0.84       174\n",
      "           3       0.96      0.91      0.93       156\n",
      "\n",
      "    accuracy                           0.90       703\n",
      "   macro avg       0.91      0.90      0.90       703\n",
      "weighted avg       0.91      0.90      0.90       703\n",
      "\n"
     ]
    }
   ],
   "source": [
    "from sklearn.metrics import classification_report,confusion_matrix\n",
    "print(classification_report(y_test,pred))"
   ]
  }
 ],
 "metadata": {
  "colab": {
   "provenance": []
  },
  "kernelspec": {
   "display_name": "Python 3 (ipykernel)",
   "language": "python",
   "name": "python3"
  },
  "language_info": {
   "codemirror_mode": {
    "name": "ipython",
    "version": 3
   },
   "file_extension": ".py",
   "mimetype": "text/x-python",
   "name": "python",
   "nbconvert_exporter": "python",
   "pygments_lexer": "ipython3",
   "version": "3.10.13"
  }
 },
 "nbformat": 4,
 "nbformat_minor": 4
}
